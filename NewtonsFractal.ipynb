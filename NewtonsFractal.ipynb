{
 "cells": [
  {
   "cell_type": "markdown",
   "id": "9d2cb6fb",
   "metadata": {},
   "source": [
    "# Newton's Fractal\n",
    "\n",
    "This notebook implements Newton's method for finding the root of a function. \n",
    "We will visualize the method, leading to a so-called Newton fractal.\n",
    "The inspiration comes from [3blue1brown](https://www.3blue1brown.com/lessons/newtons-fractal)."
   ]
  },
  {
   "cell_type": "markdown",
   "id": "36744b15",
   "metadata": {},
   "source": [
    "# Introduction\n",
    "\n",
    "Newton's method is iterative. It starts with a seed; a \"guess\" for the root of a given function. The seed is iteratively refined until it reaches a root. We will use a polynomial of degree 3 as function. Such a polynomial has three roots, so every seed will converge to one of the three roots.\n",
    "\n",
    "In other words, we have a function $f()$ with three roots. We take a seed $x_0$ and apply Newton's method to refine $x_0$ to $x_1$, then $x_2$, $x_3$, ...  and so on until it is either root 0, root 1 or root 2 of $f()$. This maps $x_0$ to 0, 1, or 2.\n",
    "\n",
    "The seed $x_0$ is in the complex numbers domain. This means that we can treat $x_0$ as point in 2D. In other words, we can make an image where every pixel corresponds to a seed $x_0$, find the root index (1, 2, or 3), and then color that pixel with one of three colors. At the end of this notebook, we present this image."
   ]
  },
  {
   "cell_type": "markdown",
   "id": "4ff3f109",
   "metadata": {},
   "source": [
    "# The project directory\n",
    "To replicate this notebook you need:\n",
    "\n",
    "- Python (3.8+) on your system\n",
    "- Start with an empty project directory; \n",
    "  then copy `requirements.txt`, `setup.bat`, `run.bat`, and `NewtonsFractal.ipynb` into it.\n",
    "- Run `setup.bat` to create a virtual Python environment (in subdirectory `env` in the project directory).\n",
    "  Note that several packages will be installed in the virtual environment (including Jupyter), as listed in `requirements.txt`.\n",
    "- Run `run.bat` to run the Jupyter server and client (web page in you browser).\n",
    "- Open this file (NewtonsFractal.ipynb)."
   ]
  },
  {
   "cell_type": "markdown",
   "id": "594a7aa0",
   "metadata": {},
   "source": [
    "## Newton's method\n",
    "\n",
    "Recall how Newton's method works.\n",
    "\n",
    "We have a function $f(x)$ and we want to find a root. \n",
    "We start with an arbitrary value $x_0$, the \"guess\" or \"seed\". Value $x_0$ induces a point $P_0$ on function $f()$. \n",
    "A line $l_0$ can be drawn in $P_0$ tangent to $f()$; this line runs through coordinates $(x_0,f(x_0))$ and has slope $f'(x_0)$. In other words the formula for the line is $l_0: y = f'(x_0)\\cdot(x-x_0) + f(x_0)$.\n",
    "\n",
    "The line $l_0$ intersects with the x-axis.\n",
    "\n",
    "$$0 = f'(x_0)\\cdot(x-x_0) + f(x_0)$$\n",
    "\n",
    "$$-f'(x_0)\\cdot(x-x_0) = f(x_0)$$\n",
    "\n",
    "$$x-x_0 = - \\frac{f(x_0)}{f'(x_0)}$$\n",
    "\n",
    "$$x = x_0 - \\frac{f(x_0)}{f'(x_0)}$$\n",
    "\n",
    "The value found for $x$ is the new approximation $x_1$ for the root. \n",
    "\n",
    "We iterate: with $x_1$ determine point $P_1$ on $f()$, tangent line $l_1$,\n",
    "and the intersection of $l_1$ and the x-axis; this gives $x_2$.\n",
    "This is the iterative step:\n",
    "\n",
    "$$ x_{i+1} = x_{i} - \\frac{f(x_{i})}{f'(x_{i})}$$\n",
    "\n",
    "For details see Newton's method on [wikipedia](https://en.wikipedia.org/wiki/Newton%27s_method)."
   ]
  },
  {
   "cell_type": "markdown",
   "id": "3e84e89f",
   "metadata": {},
   "source": [
    "# Experiment\n",
    "As mentioned above, we will use complex numbers."
   ]
  },
  {
   "cell_type": "code",
   "execution_count": 1,
   "id": "0758e138",
   "metadata": {},
   "outputs": [],
   "source": [
    "import cmath"
   ]
  },
  {
   "cell_type": "markdown",
   "id": "082d1929",
   "metadata": {},
   "source": [
    "We start simple. We take a polynomial of order 2. \n",
    "We want to know its two roots a priori, so we begin by defining them."
   ]
  },
  {
   "cell_type": "code",
   "execution_count": 2,
   "id": "800c0b9e",
   "metadata": {},
   "outputs": [
    {
     "name": "stdout",
     "output_type": "stream",
     "text": [
      "(1+0j) 1j\n"
     ]
    }
   ],
   "source": [
    "root0= 1+0j # or complex(1,0)\n",
    "root1= 0+1j # or complex(0,1)\n",
    "print( root0, root1 )"
   ]
  },
  {
   "cell_type": "markdown",
   "id": "7c65fd3a",
   "metadata": {},
   "source": [
    "The function (polynomial of order 2) is then defined as follows."
   ]
  },
  {
   "cell_type": "code",
   "execution_count": 3,
   "id": "ae824f1f",
   "metadata": {},
   "outputs": [],
   "source": [
    "def f(x) : return (x-root0) * (x-root1)"
   ]
  },
  {
   "cell_type": "markdown",
   "id": "be809693",
   "metadata": {},
   "source": [
    "Let's check that the two roots are indeed roots, e.i. that they map to 0."
   ]
  },
  {
   "cell_type": "code",
   "execution_count": 4,
   "id": "7d1a9e29",
   "metadata": {},
   "outputs": [
    {
     "data": {
      "text/plain": [
       "0j"
      ]
     },
     "execution_count": 4,
     "metadata": {},
     "output_type": "execute_result"
    }
   ],
   "source": [
    "f(root0)"
   ]
  },
  {
   "cell_type": "code",
   "execution_count": 5,
   "id": "45ff2fd7",
   "metadata": {},
   "outputs": [
    {
     "data": {
      "text/plain": [
       "(-0+0j)"
      ]
     },
     "execution_count": 5,
     "metadata": {},
     "output_type": "execute_result"
    }
   ],
   "source": [
    "f(root1)"
   ]
  },
  {
   "cell_type": "markdown",
   "id": "9f720756",
   "metadata": {},
   "source": [
    "They do - with a bit of a funny notation of the complex numbers."
   ]
  },
  {
   "cell_type": "markdown",
   "id": "a7f05ed1",
   "metadata": {},
   "source": [
    "Next step is to define the derivative of $f$. \n",
    "\n",
    "Note that $f(x) = (x-root_0) \\cdot (x-root_1) = x^2 - root_0\\cdot x - root_1\\cdot x +root_0\\cdot root_1$. \n",
    "\n",
    "As a result, the derivative of $f$ is $2x -root_0 - root_1$:"
   ]
  },
  {
   "cell_type": "code",
   "execution_count": 6,
   "id": "90c1df9a",
   "metadata": {},
   "outputs": [],
   "source": [
    "def f_(x) : return 2*x - root0 - root1"
   ]
  },
  {
   "cell_type": "markdown",
   "id": "01466302",
   "metadata": {},
   "source": [
    "I know that in the real world (as opposed to the complex domain), \n",
    "the extreme of a parabola is in the center of its two roots.\n",
    "The center is"
   ]
  },
  {
   "cell_type": "code",
   "execution_count": 7,
   "id": "b8c94103",
   "metadata": {},
   "outputs": [
    {
     "data": {
      "text/plain": [
       "(0.5+0.5j)"
      ]
     },
     "execution_count": 7,
     "metadata": {},
     "output_type": "execute_result"
    }
   ],
   "source": [
    "m = (root0+root1)/2\n",
    "m"
   ]
  },
  {
   "cell_type": "markdown",
   "id": "412589e9",
   "metadata": {},
   "source": [
    "The derivative at the center is indeed 0:"
   ]
  },
  {
   "cell_type": "code",
   "execution_count": 8,
   "id": "024c552c",
   "metadata": {},
   "outputs": [
    {
     "data": {
      "text/plain": [
       "0j"
      ]
     },
     "execution_count": 8,
     "metadata": {},
     "output_type": "execute_result"
    }
   ],
   "source": [
    "f_(m)"
   ]
  },
  {
   "cell_type": "markdown",
   "id": "d91615ff",
   "metadata": {},
   "source": [
    "The iterative step, see introduction, can now be defined."
   ]
  },
  {
   "cell_type": "code",
   "execution_count": 9,
   "id": "d08d4a7e",
   "metadata": {},
   "outputs": [],
   "source": [
    "def f_next(x) : return x - f(x)/f_(x)"
   ]
  },
  {
   "cell_type": "markdown",
   "id": "3830f499",
   "metadata": {},
   "source": [
    "The iteration stops when x no longer changes (might be better to have an \"epsilon\", but it works for now)."
   ]
  },
  {
   "cell_type": "code",
   "execution_count": 10,
   "id": "268bb2bb",
   "metadata": {},
   "outputs": [],
   "source": [
    "def f_iter(start) :\n",
    "    x = start\n",
    "    while True :\n",
    "        prev = x\n",
    "        x = f_next(x)\n",
    "        if x == prev : break\n",
    "        print(x)\n",
    "    return x"
   ]
  },
  {
   "cell_type": "markdown",
   "id": "f0ef4174",
   "metadata": {},
   "source": [
    "When we start with a seed close to root0, we converge to root0:"
   ]
  },
  {
   "cell_type": "code",
   "execution_count": 11,
   "id": "4ff2dc32",
   "metadata": {},
   "outputs": [
    {
     "name": "stdout",
     "output_type": "stream",
     "text": [
      "(1.2999999999999998+0.1j)\n",
      "(1.025+0.04999999999999997j)\n",
      "(0.9977941176470588+0.0004901960784313639j)\n",
      "(1.0000034011684618+1.240677803675391e-06j)\n",
      "(1.0000000000007947+9.23406332443337e-12j)\n",
      "(1-3.498069262304327e-23j)\n",
      "(1+0j)\n"
     ]
    },
    {
     "data": {
      "text/plain": [
       "(1+0j)"
      ]
     },
     "execution_count": 11,
     "metadata": {},
     "output_type": "execute_result"
    }
   ],
   "source": [
    "f_iter(2+0j)"
   ]
  },
  {
   "cell_type": "markdown",
   "id": "da25a729",
   "metadata": {},
   "source": [
    "When we start \"above\" root1, we converge to root1:"
   ]
  },
  {
   "cell_type": "code",
   "execution_count": 12,
   "id": "71b2f06d",
   "metadata": {},
   "outputs": [
    {
     "name": "stdout",
     "output_type": "stream",
     "text": [
      "(0.1+1.2999999999999998j)\n",
      "(0.04999999999999997+1.025j)\n",
      "(0.0004901960784313639+0.9977941176470588j)\n",
      "(1.240677803675391e-06+1.0000034011684618j)\n",
      "(9.23406332443337e-12+1.0000000000007947j)\n",
      "(-3.498069262304327e-23+1j)\n",
      "1j\n"
     ]
    },
    {
     "data": {
      "text/plain": [
       "1j"
      ]
     },
     "execution_count": 12,
     "metadata": {},
     "output_type": "execute_result"
    }
   ],
   "source": [
    "f_iter(0+2j)"
   ]
  },
  {
   "cell_type": "markdown",
   "id": "14714c6a",
   "metadata": {},
   "source": [
    "When we start at 0, we get an error - the derivative in the denominator is zero."
   ]
  },
  {
   "cell_type": "code",
   "execution_count": 13,
   "id": "df0dee5e",
   "metadata": {},
   "outputs": [
    {
     "name": "stdout",
     "output_type": "stream",
     "text": [
      "(0.5+0.5j)\n",
      "complex division by zero\n"
     ]
    }
   ],
   "source": [
    "try : \n",
    "    f_iter(0)\n",
    "except Exception as e:\n",
    "    print(e)"
   ]
  },
  {
   "cell_type": "markdown",
   "id": "11b22739",
   "metadata": {},
   "source": [
    "# Cubic function\n",
    "\n",
    "With the encouraging results of the previous section, we switch to a polynomial of degree 3.\n"
   ]
  },
  {
   "cell_type": "code",
   "execution_count": 14,
   "id": "cc4b8c57",
   "metadata": {},
   "outputs": [],
   "source": [
    "from math import sin, cos, pi"
   ]
  },
  {
   "cell_type": "markdown",
   "id": "2e6e6286",
   "metadata": {},
   "source": [
    "I want symmetrical roots - in the complex domain."
   ]
  },
  {
   "cell_type": "code",
   "execution_count": 15,
   "id": "8fa83265",
   "metadata": {},
   "outputs": [
    {
     "name": "stdout",
     "output_type": "stream",
     "text": [
      "(1+0j) (-0.4999999999999998+0.8660254037844387j) (-0.5000000000000004-0.8660254037844385j)\n"
     ]
    }
   ],
   "source": [
    "alpha = 2*pi / 3\n",
    "r0 = complex( cos(0*alpha), sin(0*alpha) )\n",
    "r1 = complex( cos(1*alpha), sin(1*alpha) )\n",
    "r2 = complex( cos(2*alpha), sin(2*alpha) )\n",
    "print( r0, r1, r2)"
   ]
  },
  {
   "cell_type": "markdown",
   "id": "c6ac2666",
   "metadata": {},
   "source": [
    "These roots setup the cubic function $g()$."
   ]
  },
  {
   "cell_type": "code",
   "execution_count": 16,
   "id": "a9c6ddb4",
   "metadata": {},
   "outputs": [],
   "source": [
    "def g(x) : return (x-r0) * (x-r1) * (x-r2)"
   ]
  },
  {
   "cell_type": "markdown",
   "id": "d46f6509",
   "metadata": {},
   "source": [
    "Note that \n",
    "\n",
    "$$ g(x) = (x−r_0)\\cdot(x−r_1)\\cdot(x−r_2) $$\n",
    "\n",
    "$$ g(x) = (x^2−r_0x-r_1x+r_0r_1)\\cdot(x−r_2) $$\n",
    "\n",
    "$$ g(x) = (x^3−r_0x^2-r_1x^2+r_0r_1x) - (r_2x^2−r_0r_2x-r_1r_2x+r_0r_1r_2) $$\n",
    "\n",
    "$$ g(x) = x^3−r_0x^2-r_1x^2-r_2x^2+r_0r_1x+r_0r_2x+r_1r_2x-r_0r_1r_2 $$\n",
    "\n",
    "$$ g(x) = x^3−(r_0+r_1+r_2)x^2+(r_0r_1+r_0r_2+r_1r_2)x-r_0r_1r_2 $$\n",
    "\n",
    "As a result, the derivative of $g()$ is\n",
    "\n",
    "$$ g'(x) = 3x^2−2(r_0+r_1+r_2)x+(r_0r_1+r_0r_2+r_1r_2) $$"
   ]
  },
  {
   "cell_type": "code",
   "execution_count": 17,
   "id": "87c45f19",
   "metadata": {},
   "outputs": [],
   "source": [
    "def g_(x) : return 3*x*x - 2*(r0+r1+r2)*x + (r0*r1+r0*r2+r1*r2)"
   ]
  },
  {
   "cell_type": "markdown",
   "id": "f9b58de2",
   "metadata": {},
   "source": [
    "The \"next\" function is the same as before (replacing f with g):"
   ]
  },
  {
   "cell_type": "code",
   "execution_count": 18,
   "id": "a1631deb",
   "metadata": {},
   "outputs": [],
   "source": [
    "def g_next(x) : return x - g(x)/g_(x)"
   ]
  },
  {
   "cell_type": "markdown",
   "id": "8e2a65ab",
   "metadata": {},
   "source": [
    "The \"iteration\" is also the same:"
   ]
  },
  {
   "cell_type": "code",
   "execution_count": 19,
   "id": "e0b30365",
   "metadata": {},
   "outputs": [],
   "source": [
    "def g_iter(start) :\n",
    "    x = start\n",
    "    while True :\n",
    "        prev = x\n",
    "        x = g_next(x)\n",
    "        if x == prev : break\n",
    "        print(x)\n",
    "    return x"
   ]
  },
  {
   "cell_type": "markdown",
   "id": "20511a87",
   "metadata": {},
   "source": [
    "If we start close to r1, we end up at r1."
   ]
  },
  {
   "cell_type": "code",
   "execution_count": 20,
   "id": "2eaa8dea",
   "metadata": {},
   "outputs": [
    {
     "name": "stdout",
     "output_type": "stream",
     "text": [
      "(-0.33333333333333326+0.666666666666667j)\n",
      "(-0.5822222222222218+0.9244444444444442j)\n",
      "(-0.5087908032893188+0.8681655118873491j)\n",
      "(-0.5000687390673925+0.8659822186925402j)\n",
      "(-0.4999999962890295+0.8660253983385868j)\n",
      "(-0.4999999999999998+0.8660254037844387j)\n"
     ]
    },
    {
     "data": {
      "text/plain": [
       "(-0.4999999999999998+0.8660254037844387j)"
      ]
     },
     "execution_count": 20,
     "metadata": {},
     "output_type": "execute_result"
    }
   ],
   "source": [
    "g_iter(0+1j)"
   ]
  },
  {
   "cell_type": "markdown",
   "id": "7aa2c4aa",
   "metadata": {},
   "source": [
    "If we start close to r2, we end up at r2."
   ]
  },
  {
   "cell_type": "code",
   "execution_count": 21,
   "id": "d5cca389",
   "metadata": {},
   "outputs": [
    {
     "name": "stdout",
     "output_type": "stream",
     "text": [
      "(-0.33333333333333337-0.6666666666666663j)\n",
      "(-0.5822222222222232-0.9244444444444444j)\n",
      "(-0.5087908032893197-0.8681655118873489j)\n",
      "(-0.5000687390673931-0.86598221869254j)\n",
      "(-0.4999999962890302-0.8660253983385866j)\n",
      "(-0.5000000000000004-0.8660254037844385j)\n"
     ]
    },
    {
     "data": {
      "text/plain": [
       "(-0.5000000000000004-0.8660254037844385j)"
      ]
     },
     "execution_count": 21,
     "metadata": {},
     "output_type": "execute_result"
    }
   ],
   "source": [
    "g_iter(0-1j)"
   ]
  },
  {
   "cell_type": "markdown",
   "id": "ebdd076f",
   "metadata": {},
   "source": [
    "Finally, when we start close to r0, we end up at r0."
   ]
  },
  {
   "cell_type": "code",
   "execution_count": 22,
   "id": "a081b3b1",
   "metadata": {},
   "outputs": [
    {
     "name": "stdout",
     "output_type": "stream",
     "text": [
      "(1.4166666666666665+9.251858538542963e-18j)\n",
      "(1.1105344098423684+3.244097143892603e-17j)\n",
      "(1.0106367684045563+5.469077781260913e-18j)\n",
      "(1.0001115573039492+8.175255136482192e-19j)\n",
      "(1.0000000124431812-1.1817385323891998e-21j)\n",
      "(1.0000000000000002-8.998756435412522e-25j)\n",
      "(1-3.0233097568615053e-33j)\n",
      "(1+3.4211388289180104e-49j)\n",
      "(1-7.596454196607839e-65j)\n",
      "(1+1.6867516709168837e-80j)\n",
      "(1-3.745341083753759e-96j)\n",
      "(1+8.31632781251592e-112j)\n",
      "(1-1.8465957235571472e-127j)\n",
      "(1+4.100266178934991e-143j)\n",
      "(1-9.104419837890877e-159j)\n",
      "(1+2.0215873059760975e-174j)\n",
      "(1-4.4888255467692094e-190j)\n",
      "(1+9.967194951097568e-206j)\n",
      "(1-2.2131618651272261e-221j)\n",
      "(1+4.914206519773204e-237j)\n",
      "(1-1.091173045203054e-252j)\n",
      "(1+2.4228908772695546e-268j)\n",
      "(1-5.379898476197808e-284j)\n",
      "(1+1.1945774316841202e-299j)\n",
      "(1-2.65249474e-315j)\n",
      "(1+0j)\n"
     ]
    },
    {
     "data": {
      "text/plain": [
       "(1+0j)"
      ]
     },
     "execution_count": 22,
     "metadata": {},
     "output_type": "execute_result"
    }
   ],
   "source": [
    "g_iter(2+0j)"
   ]
  },
  {
   "cell_type": "markdown",
   "id": "58c2c941",
   "metadata": {},
   "source": [
    "# Newton's fractal - low resolution \n",
    "\n",
    "We will now make a fractal \"ASCII style\". The idea is that for every point `(x,y)` in the 2D plane, we treat it as the seed of `g_iter`, that is, we call `g_iter( complex(x,y) )`. The iteration converges to one of the three roots. This maps `(x,y)` to the index of the root it converges to.\n",
    "\n",
    "First, we make a variant of `g_iter`, which no longer returns the point is converges to, but rather the _index_ of that root."
   ]
  },
  {
   "cell_type": "code",
   "execution_count": 23,
   "id": "92e879a2",
   "metadata": {},
   "outputs": [],
   "source": [
    "def g_root(start) :\n",
    "    x = start\n",
    "    while True :\n",
    "        prev = x\n",
    "        x = g_next(x)\n",
    "        if x == prev : break\n",
    "    if x==r0 : return 0\n",
    "    if x==r1 : return 1\n",
    "    if x==r2 : return 2\n",
    "    return -1"
   ]
  },
  {
   "cell_type": "markdown",
   "id": "9e78d95b",
   "metadata": {},
   "source": [
    "I am a bit surprised, but until now, it turns out that at the end of the while loop, `x` really is either and `r0`, `r1`, or `r2` . I expected several problems:\n",
    "\n",
    "- `g_next()` to raise an exception (division by zero).\n",
    "- `while` loop not terminating due to not converging (eg oscillation).\n",
    "- numerical differences between `x` and `r0`, `r1`, and `r2` due to numerical inaccuracies, leading to a return of -1."
   ]
  },
  {
   "cell_type": "markdown",
   "id": "c2185311",
   "metadata": {},
   "source": [
    "Next step is to define the grid size, and the associated 2D coordinates."
   ]
  },
  {
   "cell_type": "code",
   "execution_count": 24,
   "id": "37f21681",
   "metadata": {},
   "outputs": [],
   "source": [
    "ixsize  = 21   # drawing grid width (integer domain)\n",
    "iysize  = 21   # drawing grid height (integer domain)\n",
    "fxstart = -2.0 # lower left corner x-coordinate (float domain)\n",
    "fystart = -2.0 # lower left corner y-coordinate (float domain)\n",
    "fxsize  =  4.0 # width (float domain)\n",
    "fysize  =  4.0 # height (float domain)"
   ]
  },
  {
   "cell_type": "markdown",
   "id": "991a12d8",
   "metadata": {},
   "source": [
    "With those settings known, we can generate a grid and plot for every 2D point the root to which it converges."
   ]
  },
  {
   "cell_type": "code",
   "execution_count": 25,
   "id": "0ff6a525",
   "metadata": {},
   "outputs": [
    {
     "name": "stdout",
     "output_type": "stream",
     "text": [
      " 1 1 1 1 1 1 1 1 1 1 1 1 1 1 1 1 2 2 2 0 0\n",
      " 1 1 1 1 1 1 1 1 1 1 1 1 1 1 0 0 1 0 0 0 0\n",
      " 1 1 1 1 1 1 1 1 1 1 1 1 1 1 2 2 1 0 0 0 0\n",
      " 1 1 1 1 1 1 1 1 1 1 1 1 1 1 2 2 1 0 0 0 0\n",
      " 1 1 1 1 1 1 1 1 1 1 1 1 1 1 2 2 0 0 0 0 0\n",
      " 1 1 1 1 1 1 1 1 1 1 1 1 1 1 1 0 0 0 0 0 0\n",
      " 1 1 1 1 1 1 1 1 1 1 1 1 0 2 0 0 0 0 0 0 0\n",
      " 1 1 1 1 1 1 1 1 1 1 1 1 1 2 0 0 0 0 0 0 0\n",
      " 1 1 1 1 1 1 1 1 1 1 1 1 2 0 0 0 0 0 0 0 0\n",
      " 1 1 1 1 1 1 1 1 1 1 1 2 2 0 0 0 0 0 0 0 0\n",
      " 2 2 1 2 2 1 1 0 2 1 0 2 0 0 0 0 0 0 0 0 0\n",
      " 0 0 0 0 0 0 0 0 0 0 1 0 0 0 0 0 0 0 0 0 0\n",
      " 1 1 2 1 1 2 2 0 1 2 0 1 0 0 0 0 0 0 0 0 0\n",
      " 2 2 2 2 2 2 2 2 2 2 2 1 1 0 0 0 0 0 0 0 0\n",
      " 2 2 2 2 2 2 2 2 2 2 2 2 1 0 0 0 0 0 0 0 0\n",
      " 2 2 2 2 2 2 2 2 2 2 2 2 2 1 0 0 0 0 0 0 0\n",
      " 2 2 2 2 2 2 2 2 2 2 2 2 0 1 0 0 0 0 0 0 0\n",
      " 2 2 2 2 2 2 2 2 2 2 2 2 2 2 2 0 0 0 0 0 0\n",
      " 2 2 2 2 2 2 2 2 2 2 2 2 2 2 1 1 0 0 0 0 0\n",
      " 2 2 2 2 2 2 2 2 2 2 2 2 2 2 1 1 2 0 0 0 0\n",
      " 2 2 2 2 2 2 2 2 2 2 2 2 2 2 1 1 2 0 0 0 0\n"
     ]
    }
   ],
   "source": [
    "for iy in range(iysize) :\n",
    "    fy = (iysize-iy) * fysize/iysize + fystart + 0.5*fysize/iysize\n",
    "    row = \"\"\n",
    "    for ix in range(ixsize) :\n",
    "        fx = ix * fxsize/ixsize + fxstart + 0.5*fxsize/ixsize\n",
    "        z0 = complex(fx,fy)\n",
    "        root = g_root(z0)\n",
    "        row += f\" {root}\"\n",
    "    print(row)"
   ]
  },
  {
   "cell_type": "markdown",
   "id": "09645fac",
   "metadata": {},
   "source": [
    "# Newton's fractal - high resolution \n",
    "\n",
    "We will now switch from an \"ASCII\" grid to a real image."
   ]
  },
  {
   "cell_type": "code",
   "execution_count": 26,
   "id": "37f4ff38",
   "metadata": {},
   "outputs": [],
   "source": [
    "from PIL import Image, ImageColor"
   ]
  },
  {
   "cell_type": "markdown",
   "id": "bedc1778",
   "metadata": {},
   "source": [
    "`fractal` is a function that wraps the above for-loops, returning the resulting image. The settings are passed explicitly."
   ]
  },
  {
   "cell_type": "code",
   "execution_count": 27,
   "id": "a91170b6",
   "metadata": {},
   "outputs": [],
   "source": [
    "def fractal(settings) :\n",
    "    # Extract settings\n",
    "    ixsize    = settings[\"ixsize\"]\n",
    "    iysize    = settings[\"iysize\"]\n",
    "    fxscale   = settings[\"fxsize\"] / ixsize\n",
    "    fyscale   = settings[\"fysize\"] / iysize\n",
    "    fxstarth  = settings[\"fxstart\"] + 0.5*fxscale\n",
    "    fystarth  = settings[\"fystart\"] + 0.5*fyscale\n",
    "    colors    = [ settings[\"root0color\"], settings[\"root1color\"], settings[\"root2color\"] ]\n",
    "    # Setup imgae\n",
    "    img = Image.new(\"RGB\", (ixsize,iysize) )\n",
    "    # Fill pixels\n",
    "    for iy in range(iysize) :\n",
    "        fy = (iysize-iy) * fyscale + fystarth\n",
    "        for ix in range(ixsize) :\n",
    "            fx = ix * fxscale + fxstarth\n",
    "            z0 = complex(fx,fy)\n",
    "            root = g_root(z0)\n",
    "            img.putpixel( (ix,iy) , colors[root] )\n",
    "    return img"
   ]
  },
  {
   "cell_type": "markdown",
   "id": "bca04e6f",
   "metadata": {},
   "source": [
    "After filling the `settings`"
   ]
  },
  {
   "cell_type": "code",
   "execution_count": 28,
   "id": "e4ea69a2",
   "metadata": {},
   "outputs": [],
   "source": [
    "settings = {}\n",
    "settings[\"ixsize\"]     = 801\n",
    "settings[\"iysize\"]     = 801\n",
    "settings[\"fxsize\"]     =   3.0\n",
    "settings[\"fysize\"]     =   3.0\n",
    "settings[\"fxstart\"]    =  -1.5\n",
    "settings[\"fystart\"]    =  -1.5\n",
    "settings[\"root0color\"] = ImageColor.getrgb(\"#c04050\")\n",
    "settings[\"root1color\"] = ImageColor.getrgb(\"#c0b040\")\n",
    "settings[\"root2color\"] = ImageColor.getrgb(\"#4050c0\")\n",
    "\n",
    "# settings[\"root0color\"] = ImageColor.getrgb(\"black\")\n",
    "# settings[\"root1color\"] = ImageColor.getrgb(\"gray\")\n",
    "# settings[\"root2color\"] = ImageColor.getrgb(\"gainsboro\")"
   ]
  },
  {
   "cell_type": "markdown",
   "id": "01b37e75",
   "metadata": {},
   "source": [
    "we can draw the fractal"
   ]
  },
  {
   "cell_type": "code",
   "execution_count": 29,
   "id": "04f9ba89",
   "metadata": {},
   "outputs": [
    {
     "data": {
      "image/png": "[encoded data removed]",
      "text/plain": [
       "<PIL.Image.Image image mode=RGB size=801x801 at 0x1A76914A490>"
      ]
     },
     "execution_count": 29,
     "metadata": {},
     "output_type": "execute_result"
    }
   ],
   "source": [
    "fractal(settings)"
   ]
  },
  {
   "cell_type": "markdown",
   "id": "4b9b088a",
   "metadata": {},
   "source": [
    "A bit wasteful of the computation time, but we generate the fractal again to save it to a file."
   ]
  },
  {
   "cell_type": "code",
   "execution_count": 30,
   "id": "53647a71",
   "metadata": {},
   "outputs": [
    {
     "name": "stdout",
     "output_type": "stream",
     "text": [
      "Wall time: 5.77 s\n"
     ]
    }
   ],
   "source": [
    "%%time\n",
    "image = fractal(settings)\n",
    "image.save(\"NewtonsFractal.png\")"
   ]
  },
  {
   "cell_type": "markdown",
   "id": "85adb72a",
   "metadata": {},
   "source": [
    "(end)"
   ]
  }
 ],
 "metadata": {
  "kernelspec": {
   "display_name": "Python 3 (ipykernel)",
   "language": "python",
   "name": "python3"
  },
  "language_info": {
   "codemirror_mode": {
    "name": "ipython",
    "version": 3
   },
   "file_extension": ".py",
   "mimetype": "text/x-python",
   "name": "python",
   "nbconvert_exporter": "python",
   "pygments_lexer": "ipython3",
   "version": "3.9.5"
  }
 },
 "nbformat": 4,
 "nbformat_minor": 5
}
